{
 "cells": [
  {
   "cell_type": "code",
   "execution_count": 17,
   "metadata": {},
   "outputs": [],
   "source": [
    "import cv2\n",
    "from os import listdir\n",
    "import numpy as np\n",
    "import pandas as pd"
   ]
  },
  {
   "cell_type": "markdown",
   "metadata": {},
   "source": [
    "Carga masiva de datos:"
   ]
  },
  {
   "cell_type": "code",
   "execution_count": 18,
   "metadata": {},
   "outputs": [],
   "source": [
    "carpeta=\"imagenes/\"\n",
    "imagenes= listdir(carpeta)"
   ]
  },
  {
   "cell_type": "code",
   "execution_count": 19,
   "metadata": {},
   "outputs": [],
   "source": [
    "lista_Imagenes=[]\n",
    "for imagen in imagenes:\n",
    "    img=cv2.imread(carpeta+imagen,0)\n",
    "    img=cv2.resize(img,(100,100),interpolation=cv2.INTER_CUBIC)\n",
    "    (_,img_bin)= cv2.threshold(img,0,255,cv2.THRESH_BINARY_INV+cv2.THRESH_TRIANGLE)\n",
    "    lista_Imagenes.append(img_bin.flatten())"
   ]
  },
  {
   "cell_type": "code",
   "execution_count": 20,
   "metadata": {},
   "outputs": [],
   "source": [
    "def dataFrame2(carpeta):\n",
    "    \n",
    "    entradas=np.array(lista_Imagenes)\n",
    "    def funcion(imagen):\n",
    "        if imagen.endswith('A.png'):\n",
    "            return 0\n",
    "        elif imagen.endswith('Z.png'):\n",
    "            return 1\n",
    "        elif imagen.endswith('U.png'):\n",
    "            return 2\n",
    "        else:\n",
    "            return 3\n",
    "    salidas= np.array(list(map(funcion, imagenes)))\n",
    "    df2=pd.DataFrame(entradas)\n",
    "    df2['salidas']=list(salidas)\n",
    "    df2.to_csv(\"datos/df2.csv\", index=True) \n",
    "\n",
    "    return print(\"Datos DataFrame 2 procesados correctamente.\")"
   ]
  },
  {
   "cell_type": "code",
   "execution_count": 21,
   "metadata": {},
   "outputs": [
    {
     "name": "stdout",
     "output_type": "stream",
     "text": [
      "Datos DataFrame 2 procesados correctamente.\n"
     ]
    }
   ],
   "source": [
    "dataFrame2(carpeta)"
   ]
  }
 ],
 "metadata": {
  "kernelspec": {
   "display_name": "Python 3",
   "language": "python",
   "name": "python3"
  },
  "language_info": {
   "codemirror_mode": {
    "name": "ipython",
    "version": 3
   },
   "file_extension": ".py",
   "mimetype": "text/x-python",
   "name": "python",
   "nbconvert_exporter": "python",
   "pygments_lexer": "ipython3",
   "version": "3.12.8"
  }
 },
 "nbformat": 4,
 "nbformat_minor": 4
}
