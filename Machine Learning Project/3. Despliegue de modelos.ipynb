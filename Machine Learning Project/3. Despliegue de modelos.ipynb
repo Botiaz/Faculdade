{
 "cells": [
  {
   "cell_type": "code",
   "execution_count": 1,
   "metadata": {},
   "outputs": [],
   "source": [
    "import joblib  # Import the joblib library for loading the pre-trained model\n",
    "from os import listdir  # Import the listdir function from the os module to list files in a directory\n",
    "import cv2  # Import the OpenCV library for image processing\n",
    "import numpy as np  # Import the numpy library for numerical operations"
   ]
  },
  {
   "cell_type": "code",
   "execution_count": 2,
   "metadata": {},
   "outputs": [],
   "source": [
    "# Load the pre-trained model using joblib\n",
    "modelo2 = joblib.load('modelo/modelo2.joblib')\n",
    "\n",
    "# Define the directory containing the images to be processed\n",
    "carpeta = \"prueba/\""
   ]
  },
  {
   "cell_type": "code",
   "execution_count": 5,
   "metadata": {},
   "outputs": [
    {
     "name": "stdout",
     "output_type": "stream",
     "text": [
      "La imagen A.jpg tiene la A\n",
      "La imagen AA.jpeg tiene la A\n",
      "La imagen prueba1.png tiene el 1\n",
      "La imagen prueba2.png tiene el 3\n",
      "La imagen prueba3.png tiene la A\n",
      "La imagen prueba4.png tiene la Z\n",
      "La imagen uno.jpg tiene el 1\n",
      "La imagen unoo.jpeg tiene el 1\n"
     ]
    }
   ],
   "source": [
    "# Define a dictionary to map prediction results to human-readable labels\n",
    "resultado = {0: 'la A', 1: 'la Z', 2: 'el 1', 3: 'el 3'}\n",
    "\n",
    "# List all images in the specified directory\n",
    "imagenes = listdir(carpeta)\n",
    "\n",
    "# Initialize an empty list to store processed images\n",
    "lista_Imagenes = []\n",
    "\n",
    "# Loop through each image in the directory\n",
    "for imagen in imagenes:\n",
    "        # Read the image in grayscale mode\n",
    "        img = cv2.imread(carpeta + imagen, 0)\n",
    "        \n",
    "        # Resize the image to 100x100 pixels using cubic interpolation\n",
    "        img = cv2.resize(img, (100, 100), interpolation=cv2.INTER_CUBIC)\n",
    "        \n",
    "        # Apply binary inverse thresholding with triangle method to binarize the image\n",
    "        (_, img_bin) = cv2.threshold(img, 0, 255, cv2.THRESH_BINARY_INV + cv2.THRESH_TRIANGLE)\n",
    "        \n",
    "        # Flatten the binarized image and add it to the list of processed images\n",
    "        lista_Imagenes.append(img_bin.flatten())\n",
    "        \n",
    "        # Predict the class of the image using the pre-trained model\n",
    "        prediccion2 = modelo2.predict(img_bin.flatten().reshape(1, img_bin.size))\n",
    "        \n",
    "        # Print the prediction result with the corresponding label\n",
    "        print(f\"La imagen {imagen} tiene {resultado[prediccion2[0]]}\")\n"
   ]
  }
 ],
 "metadata": {
  "kernelspec": {
   "display_name": "Python 3",
   "language": "python",
   "name": "python3"
  },
  "language_info": {
   "codemirror_mode": {
    "name": "ipython",
    "version": 3
   },
   "file_extension": ".py",
   "mimetype": "text/x-python",
   "name": "python",
   "nbconvert_exporter": "python",
   "pygments_lexer": "ipython3",
   "version": "3.12.1"
  }
 },
 "nbformat": 4,
 "nbformat_minor": 4
}
